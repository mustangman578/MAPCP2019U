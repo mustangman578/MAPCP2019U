{
 "cells": [
  {
   "cell_type": "code",
   "execution_count": 3,
   "metadata": {},
   "outputs": [],
   "source": [
    "import os\n",
    "import matplotlib.pyplot as plt\n",
    "\n",
    "x_list = []\n",
    "y_list = []\n",
    "filelist = os.listdir()\n",
    "for i in filelist:\n",
    "    if i.endswith('.txt'):\n",
    "        with open(i,'r',encoding='ascii') as y:\n",
    "            for line in y:\n",
    "                data = line.split('\\\\n')\n",
    "                for i in data:\n",
    "                    y_value = i[0:5]\n",
    "                    x_value = i[7:13]\n",
    "                    x_list.append(x_value)\n",
    "                    y_list.append(y_value)\n",
    "                    \n",
    "\n",
    "                    \n"
   ]
  },
  {
   "cell_type": "code",
   "execution_count": null,
   "metadata": {},
   "outputs": [
    {
     "data": {
      "text/plain": [
       "<matplotlib.collections.PathCollection at 0x23cb17f6f28>"
      ]
     },
     "execution_count": 4,
     "metadata": {},
     "output_type": "execute_result"
    }
   ],
   "source": [
    "plt.scatter(x_list,y_list)"
   ]
  },
  {
   "cell_type": "code",
   "execution_count": null,
   "metadata": {},
   "outputs": [],
   "source": []
  }
 ],
 "metadata": {
  "kernelspec": {
   "display_name": "Python 3",
   "language": "python",
   "name": "python3"
  },
  "language_info": {
   "codemirror_mode": {
    "name": "ipython",
    "version": 3
   },
   "file_extension": ".py",
   "mimetype": "text/x-python",
   "name": "python",
   "nbconvert_exporter": "python",
   "pygments_lexer": "ipython3",
   "version": "3.7.3"
  }
 },
 "nbformat": 4,
 "nbformat_minor": 2
}
